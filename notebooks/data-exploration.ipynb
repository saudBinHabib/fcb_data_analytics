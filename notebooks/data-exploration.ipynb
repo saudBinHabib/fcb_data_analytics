{
 "cells": [
  {
   "cell_type": "code",
   "execution_count": null,
   "metadata": {},
   "outputs": [],
   "source": [
    "import json\n",
    "import os\n",
    "import pandas as pd\n",
    "\n",
    "from fcb_data_providers.database import Database\n",
    "from fcb_data_providers.utils import get_logger\n",
    "\n",
    "from fcb_data_providers.models import CardModel, EventModel, GoalModel, MatchModel, PeriodModel, PlayerModel, QualifierModel, ScoreModel, TeamModel\n",
    "\n",
    "from fcb_data_providers.database_models import Card, Event, Goal, Match, Period, Player, Qualifier, Score, Team\n",
    "\n",
    "from fcb_data_providers.providers import StatsPerformProvider\n",
    "\n",
    "from dotenv import load_dotenv\n",
    "load_dotenv()"
   ]
  },
  {
   "cell_type": "code",
   "execution_count": null,
   "metadata": {},
   "outputs": [],
   "source": [
    "from fcb_data_providers.version import __version__\n",
    "__version__"
   ]
  },
  {
   "cell_type": "code",
   "execution_count": null,
   "metadata": {},
   "outputs": [],
   "source": [
    "\n",
    "DATABASE_URL=os.getenv(\"DATABASE_URL\")\n",
    "DATA_DIR = os.getenv(\"DATA_DIR\")"
   ]
  },
  {
   "cell_type": "code",
   "execution_count": null,
   "metadata": {},
   "outputs": [],
   "source": [
    "DATABASE_URL, DATA_DIR"
   ]
  },
  {
   "cell_type": "code",
   "execution_count": null,
   "metadata": {},
   "outputs": [],
   "source": [
    "db = Database(DATABASE_URL)\n",
    "# db.create_tables()\n",
    "# session = db.get_session()\n",
    "db.drop_tables()"
   ]
  },
  {
   "cell_type": "markdown",
   "metadata": {},
   "source": [
    "## 1. Doing the data processing for events, and stats data using our python package"
   ]
  },
  {
   "cell_type": "code",
   "execution_count": null,
   "metadata": {},
   "outputs": [],
   "source": [
    "stats_class = StatsPerformProvider(data_path=DATA_DIR, database_url=DATABASE_URL)"
   ]
  },
  {
   "cell_type": "code",
   "execution_count": null,
   "metadata": {},
   "outputs": [],
   "source": [
    "stats_class.process_data()"
   ]
  },
  {
   "cell_type": "markdown",
   "metadata": {},
   "source": [
    "### 2. Data Exploration for Events data."
   ]
  },
  {
   "cell_type": "code",
   "execution_count": null,
   "metadata": {},
   "outputs": [],
   "source": [
    "# getting the session from the database\n",
    "session = db.get_session()"
   ]
  },
  {
   "cell_type": "code",
   "execution_count": null,
   "metadata": {},
   "outputs": [],
   "source": [
    "# get all match event files\n",
    "\n",
    "match_event_files = stats_class.get_match_related_files(file_type=\"match_event\")\n",
    "stats_class.logger.info(f\"Match event files: {match_event_files}\")"
   ]
  },
  {
   "cell_type": "code",
   "execution_count": null,
   "metadata": {},
   "outputs": [],
   "source": [
    "# get all match stats files\n",
    "\n",
    "match_stats_files = stats_class.get_match_related_files(file_type=\"match_stats\")\n",
    "stats_class.logger.info(f\"Match stats files: {match_stats_files}\")"
   ]
  },
  {
   "cell_type": "code",
   "execution_count": null,
   "metadata": {},
   "outputs": [],
   "source": [
    "# getting dataframe from the first match event, and state file\n",
    "\n",
    "df_events = pd.read_json(match_event_files[0])\n",
    "df_stats = pd.read_json(match_stats_files[0])"
   ]
  },
  {
   "cell_type": "code",
   "execution_count": null,
   "metadata": {},
   "outputs": [],
   "source": [
    "# printing dataframe\n",
    "\n",
    "df_events"
   ]
  },
  {
   "cell_type": "code",
   "execution_count": null,
   "metadata": {},
   "outputs": [],
   "source": [
    "# getting teams from the match events dataframe, and printing it for exploration.\n",
    "\n",
    "contestants = df_events.loc['contestant', 'matchInfo']\n",
    "print(json.dumps(contestants, indent=4))"
   ]
  },
  {
   "cell_type": "code",
   "execution_count": null,
   "metadata": {},
   "outputs": [],
   "source": [
    "# getting the match id from the match events dataframe\n",
    "\n",
    "match_id = df_events.loc['id', 'matchInfo']\n",
    "print(match_id)"
   ]
  },
  {
   "cell_type": "code",
   "execution_count": null,
   "metadata": {},
   "outputs": [],
   "source": [
    "# getting the match detail dictionary from the match events dataframe\n",
    "\n",
    "match_details = df_events.loc['matchDetails', 'liveData']\n",
    "print(json.dumps(match_details, indent=4))"
   ]
  },
  {
   "cell_type": "code",
   "execution_count": null,
   "metadata": {},
   "outputs": [],
   "source": [
    "# getting the events list of dictionaries from the match events dataframe\n",
    "\n",
    "events = df_events.loc['event', 'liveData']\n",
    "print(json.dumps(events, indent=4))"
   ]
  },
  {
   "cell_type": "code",
   "execution_count": null,
   "metadata": {},
   "outputs": [],
   "source": [
    "# creating Pydantic event model, to check if the data type checking is handled correctly by Pydantic model or not.\n",
    "\n",
    "event = EventModel(\n",
    "    id=events[0].get('id'),\n",
    "    event_id=events[0].get('eventId'),\n",
    "    type_id=events[0].get('typeId'),\n",
    "    period_id=events[0].get('periodId'),\n",
    "    time_min=events[0].get('timeMin'),\n",
    "    time_sec=events[0].get('timeSec'),\n",
    "    x=events[0].get('x'),\n",
    "    y=events[0].get('y'),\n",
    "    outcome=events[0].get('outcome'),\n",
    "    timestamp=events[0].get('timestamp'),\n",
    "    last_modified=events[0].get('lastModified'),\n",
    "    match_id=df_events.loc['id', 'matchInfo'],\n",
    "    player_id=events[0].get('playerId'),\n",
    "    team_id=events[0].get('contestantId'),\n",
    ")"
   ]
  },
  {
   "cell_type": "code",
   "execution_count": null,
   "metadata": {},
   "outputs": [],
   "source": [
    "# getting period list of dictionaries from the match details dictionary\n",
    "\n",
    "periods = match_details.get(\"period\")"
   ]
  },
  {
   "cell_type": "code",
   "execution_count": null,
   "metadata": {},
   "outputs": [],
   "source": [
    "# creating Pydantic period model, to check if the data type checking is handled correctly by Pydantic model or not.\n",
    "\n",
    "period = PeriodModel(\n",
    "    match_id=match_id,\n",
    "    start_time=periods[0].get('start'),\n",
    "    end_time=periods[0].get('end'),\n",
    "    length_min=periods[0].get('lengthMin'),\n",
    "    length_sec=periods[0].get('lengthSec'),\n",
    ")"
   ]
  },
  {
   "cell_type": "code",
   "execution_count": null,
   "metadata": {},
   "outputs": [],
   "source": [
    "# creating Pydantic score model, to check if the data type checking is handled correctly by Pydantic model or not.\n",
    "\n",
    "score = ScoreModel(\n",
    "    match_id=df_events.loc['id', 'matchInfo'],\n",
    "    ht_home=match_details['scores']['ht']['home'],\n",
    "    ht_away=match_details['scores']['ht']['away'],\n",
    "    ft_home=match_details['scores']['ft']['home'],\n",
    "    ft_away=match_details['scores']['ft']['away'],\n",
    "    total_home=match_details['scores']['total']['home'],\n",
    "    total_away=match_details['scores']['total']['away'],\n",
    ")"
   ]
  },
  {
   "cell_type": "code",
   "execution_count": null,
   "metadata": {},
   "outputs": [],
   "source": [
    "# inserting the data into the database, using database session scope context manager.\n",
    "\n",
    "with db.session_scope() as session:\n",
    "    session.add(Event(**event.model_dump()))\n",
    "    session.add(Period(**period.model_dump()))\n"
   ]
  },
  {
   "cell_type": "code",
   "execution_count": null,
   "metadata": {},
   "outputs": [],
   "source": [
    "# data = Event(**event.model_dump())\n",
    "# session.add(data)\n",
    "# data = Period(**period.model_dump())\n",
    "# session.add(data)\n",
    "# data = Score(**score.model_dump())\n",
    "# session.add(data)\n",
    "# session.commit()"
   ]
  },
  {
   "cell_type": "code",
   "execution_count": null,
   "metadata": {},
   "outputs": [],
   "source": [
    "# if inserting failed, rollback the session\n",
    "# session.rollback()"
   ]
  },
  {
   "cell_type": "code",
   "execution_count": null,
   "metadata": {},
   "outputs": [],
   "source": [
    "# getting  home and away team ids, to provide that info for match model\n",
    "\n",
    "home_contestant_id = next(contestant['id'] for contestant in contestants if contestant['position'] == 'home')\n",
    "away_contestant_id = next(contestant['id'] for contestant in contestants if contestant['position'] == 'away')"
   ]
  },
  {
   "cell_type": "code",
   "execution_count": null,
   "metadata": {},
   "outputs": [],
   "source": [
    "# creating Pydantic match model, to check if the data type checking is handled correctly by Pydantic model or not.\n",
    "\n",
    "match = MatchModel(\n",
    "    id=df_events.loc['id', 'matchInfo'],\n",
    "    match_date=df_events.loc['localDate', 'matchInfo'],\n",
    "    match_status= match_details['matchStatus'] if 'matchStatus' in match_details else None,\n",
    "    home_team_id=home_contestant_id,\n",
    "    away_team_id=away_contestant_id,\n",
    "    winner=match_details['winner'] if 'winner' in match_details else None,\n",
    "    match_length_min=match_details['matchLengthMin'] if 'matchLengthMin' in match_details else None,\n",
    "    match_length_sec=match_details['matchLengthSec'] if 'matchLengthSec' in match_details else None,\n",
    ")\n"
   ]
  },
  {
   "cell_type": "code",
   "execution_count": null,
   "metadata": {},
   "outputs": [],
   "source": [
    "# creating Pydantic team model, to check if the data type checking is handled correctly by Pydantic model or not.\n",
    "\n",
    "team = TeamModel(\n",
    "    id=contestants[0]['id'] ,\n",
    "    name=contestants[0]['name'],\n",
    "    short_name=contestants[0]['shortName'] if 'shortName' in contestants[0] else None,\n",
    "    official_name=contestants[0]['officialName'] if 'officialName' in contestants[0] else None,\n",
    "    code=contestants[0]['code'] if 'code' in contestants[0] else None,\n",
    ")"
   ]
  },
  {
   "cell_type": "code",
   "execution_count": null,
   "metadata": {},
   "outputs": [],
   "source": [
    "# getting the event id from the first event list\n",
    "\n",
    "event_id =  events[0].get('id')"
   ]
  },
  {
   "cell_type": "code",
   "execution_count": null,
   "metadata": {},
   "outputs": [],
   "source": [
    "# creating Pydantic qualifier model, to check if the data type checking is handled correctly by Pydantic model or not.\n",
    "\n",
    "qualifier = QualifierModel(\n",
    "    q_id= events[0]['qualifier'][0].get('id'),\n",
    "    qualifier_id= events[0]['qualifier'][0].get('qualifierId'),\n",
    "    value= events[0]['qualifier'][0].get('value'),\n",
    "    event_id= events[0].get('id'),\n",
    ")"
   ]
  },
  {
   "cell_type": "code",
   "execution_count": null,
   "metadata": {},
   "outputs": [],
   "source": []
  },
  {
   "cell_type": "markdown",
   "metadata": {},
   "source": [
    "### 3. Data Exploration for Stats data."
   ]
  },
  {
   "cell_type": "code",
   "execution_count": null,
   "metadata": {},
   "outputs": [],
   "source": [
    "# printing the match stats dataframe\n",
    "\n",
    "df_stats"
   ]
  },
  {
   "cell_type": "code",
   "execution_count": null,
   "metadata": {},
   "outputs": [],
   "source": [
    "# getting the line up list of both teams from the match stats dataframe\n",
    "\n",
    "line_up = df_stats.loc['lineUp', 'liveData']\n",
    "print(json.dumps(line_up, indent=4))"
   ]
  },
  {
   "cell_type": "code",
   "execution_count": null,
   "metadata": {},
   "outputs": [],
   "source": [
    "# getting team id from the line up list\n",
    "\n",
    "team_id = line_up[0].get('contestantId')"
   ]
  },
  {
   "cell_type": "code",
   "execution_count": null,
   "metadata": {},
   "outputs": [],
   "source": [
    "# getting the players list of dictionaries from the line up list\n",
    "\n",
    "players = line_up[0]['player']"
   ]
  },
  {
   "cell_type": "code",
   "execution_count": null,
   "metadata": {},
   "outputs": [],
   "source": [
    "# creating Pydantic player model, to check if the data type checking is handled correctly by Pydantic model or not.\n",
    "\n",
    "player = PlayerModel(\n",
    "    id=players[0].get('playerId'),\n",
    "    first_name=players[0].get('firstName'),\n",
    "    last_name=players[0].get('lastName'),\n",
    "    short_first_name=players[0].get('shortFirstName'),\n",
    "    short_last_name=players[0].get('shortLastName'),\n",
    "    match_name=players[0].get('matchName'),\n",
    "    shirt_number=players[0].get('shirtNumber'),\n",
    "    position=players[0].get('position'),\n",
    "    position_side=players[0].get('positionSide'),\n",
    "    formation_place=players[0].get('formationPlace'),\n",
    "    is_captain=players[0].get('captain'),\n",
    "    team_id=team_id,\n",
    ")"
   ]
  },
  {
   "cell_type": "code",
   "execution_count": null,
   "metadata": {},
   "outputs": [],
   "source": [
    "# getting the cards list of dictionaries from the match stats dataframe\n",
    "\n",
    "cards = df_stats.loc['card', 'liveData']\n",
    "print(json.dumps(cards, indent=4))"
   ]
  },
  {
   "cell_type": "code",
   "execution_count": null,
   "metadata": {},
   "outputs": [],
   "source": [
    "# creating Pydantic card model, to check if the data type checking is handled correctly by Pydantic model or not.\n",
    "\n",
    "card = CardModel(\n",
    "    match_id=df_events.loc['id', 'matchInfo'],\n",
    "    contestant_id=cards[0].get('contestantId'),\n",
    "    period_id=cards[0].get('periodId'),\n",
    "    time_min=cards[0].get('timeMin'),\n",
    "    time_min_sec=cards[0].get('timeMinSec'),\n",
    "    last_updated=cards[0].get('lastUpdated'),\n",
    "    timestamp=cards[0].get('timestamp'),\n",
    "    type=cards[0].get('type'),\n",
    "    player_id=cards[0].get('playerId'),\n",
    "    player_name=cards[0].get('playerName'),\n",
    "    opta_event_id=cards[0].get('optaEventId'),\n",
    "    card_reason=cards[0].get('cardReason'),\n",
    ")"
   ]
  },
  {
   "cell_type": "code",
   "execution_count": null,
   "metadata": {},
   "outputs": [],
   "source": [
    "# getting the goals list of dictionaries from the match stats dataframe\n",
    "\n",
    "goals = df_stats.loc['goal', 'liveData']\n",
    "print(json.dumps(goals, indent=4))"
   ]
  },
  {
   "cell_type": "code",
   "execution_count": null,
   "metadata": {},
   "outputs": [],
   "source": [
    "match_id = df_stats.loc['id', 'matchInfo']"
   ]
  },
  {
   "cell_type": "code",
   "execution_count": null,
   "metadata": {},
   "outputs": [],
   "source": [
    "# match_id=df_stats.loc['id', 'matchInfo']\n",
    "# contestant_id=goals[0].get('contestantId')\n",
    "# period_id=goals[0].get('periodId')\n",
    "# time_min=goals[0].get('timeMin')\n",
    "# time_min_sec=goals[0].get('timeMinSec')\n",
    "# last_updated=goals[0].get('lastUpdated')\n",
    "# timestamp=goals[0].get('timestamp')\n",
    "# type=goals[0].get('type')\n",
    "# scorer_id=goals[0].get('scorerId')\n",
    "# scorer_name=goals[0].get('scorerName')\n",
    "# assist_player_id=goals[0].get('assistPlayerId')\n",
    "# assist_player_name=goals[0].get('assistPlayerName')\n",
    "# opta_event_id=goals[0].get('optaEventId')\n",
    "# home_score=goals[0].get('homeScore')\n",
    "# away_score=goals[0].get('awayScore')"
   ]
  },
  {
   "cell_type": "code",
   "execution_count": null,
   "metadata": {},
   "outputs": [],
   "source": [
    "# creating Pydantic goal model, to check if the data type checking is handled correctly by Pydantic model or not.\n",
    "\n",
    "goal = GoalModel(\n",
    "    match_id=match_id,\n",
    "    contestant_id=goals[0].get('contestantId'),\n",
    "    period_id=goals[0].get('periodId'),\n",
    "    time_min=goals[0].get('timeMin'),\n",
    "    time_min_sec=goals[0].get('timeMinSec'),\n",
    "    last_updated=goals[0].get('lastUpdated'),\n",
    "    timestamp=goals[0].get('timestamp'),\n",
    "    type=goals[0].get('type'),\n",
    "    scorer_id=goals[0].get('scorerId'),\n",
    "    scorer_name=goals[0].get('scorerName'),\n",
    "    assist_player_id=goals[0].get('assistPlayerId'),\n",
    "    assist_player_name=goals[0].get('assistPlayerName'),\n",
    "    opta_event_id=goals[0].get('optaEventId'),\n",
    "    home_score=goals[0].get('homeScore'),\n",
    "    away_score=goals[0].get('awayScore'),\n",
    ")"
   ]
  },
  {
   "cell_type": "code",
   "execution_count": null,
   "metadata": {},
   "outputs": [],
   "source": []
  },
  {
   "cell_type": "code",
   "execution_count": null,
   "metadata": {},
   "outputs": [],
   "source": []
  }
 ],
 "metadata": {
  "kernelspec": {
   "display_name": ".venv",
   "language": "python",
   "name": "python3"
  },
  "language_info": {
   "codemirror_mode": {
    "name": "ipython",
    "version": 3
   },
   "file_extension": ".py",
   "mimetype": "text/x-python",
   "name": "python",
   "nbconvert_exporter": "python",
   "pygments_lexer": "ipython3",
   "version": "3.11.7"
  },
  "orig_nbformat": 4
 },
 "nbformat": 4,
 "nbformat_minor": 2
}
